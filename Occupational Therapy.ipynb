{
 "cells": [
  {
   "cell_type": "markdown",
   "metadata": {},
   "source": [
    "# Occupational Therapy — Notebook\n",
    "\n",
    "For many practising engineers, their notebook plays a key role in helping them keep their thoughts on track when working through a problem.\n",
    "\n",
    "Computational notebooks can play a similar role, with several additional benefits.\n",
    "\n",
    "Firstly, as digital documents, they can be easily searched. Secondly, as *computational* notebooks, they can can be used to record, *and execute*, mathematical and computational models.\n",
    "\n",
    "In this notebook, we'll provide a complement to Danny Nowlan's \"Occupational Therapy\" *Chassis Simulation* column from the July, 2020, edition of *Racecar Engineering* magazine to show how  to explore some of the models described using mathematical equations in that article interactively using computational notebooks.\n",
    "\n",
    "Elsewhere, we'll show how you can explore actual data sets, using data rather than an mathematical models, using the computational notebook approach."
   ]
  },
  {
   "cell_type": "markdown",
   "metadata": {},
   "source": [
    "## Evaluating a Simple Equation\n",
    "\n",
    "Over the years, the Pyhton programming language has been extended by many thousands of community generated \"packages\" that perform a wide variety of computational tasks, from data analysis and chart plotting, to finite element analysis to symbolic computation.\n",
    "\n",
    "*Symbolic computaion*? What's that then...?\n",
    "\n",
    "Maths... Programmes that do maths. If you've ever used Mathcad or Mathematica, that's symbolic computation.\n",
    "\n",
    "In this notebook, I'll introduce a Python programming package called `sympy`, and show you how you can use it to \"do maths\" in a computational notebook.\n",
    "\n",
    "One reason I'm doing it this way, in a *Jupyter* notebook, rather than Mathcad or Mathematica,  is that Jupyter notebooks, the Python programming language, and the `sympy` package are all free, open source software. Another reason is that Jupyter notebooks are increasingly widely used in academic teaching and research, as well as industry. This means they provide a good basis for being able to share your work with others, as well allowing you to directly benefit from code other people have put out there that you can learn from and crib from too..\n",
    "\n",
    "So let's get started..."
   ]
  },
  {
   "cell_type": "markdown",
   "metadata": {},
   "source": [
    "Danny Nowlan's article starts of with a simple equation that describes the traction circle radius ($TC_{RAD}$) as a function of tyre load ($F_z$) given a particular coefficient of friction ($k_a$) and coefficient drop off with load ($k_b$).\n",
    "\n",
    "The basic equation takes the form:\n",
    "\n",
    "$$TC_{RAD}=k_a(1-k_b.F_z)F_z$$\n",
    "\n",
    "\n",
    "We can calculate this expression of a range of values for $F_z$, for example zero to one thousand.\n",
    "\n",
    "*You may notice that equations in the notebook are presented in a stylised way. You can display all manner of mathematical equations in a notebook, and render the appropriately, by writing them using the LateX markup language.*"
   ]
  },
  {
   "cell_type": "markdown",
   "metadata": {},
   "source": [
    "To start with, we declare that we want some symbolic variables: "
   ]
  },
  {
   "cell_type": "code",
   "execution_count": 1,
   "metadata": {},
   "outputs": [],
   "source": [
    "from sympy import symbols\n",
    "\n",
    "TC_RAD, F_z, k_a, k_b = symbols('TC_RAD F_z k_a k_b')"
   ]
  },
  {
   "cell_type": "markdown",
   "metadata": {},
   "source": [
    "We can assign particular values to symbolic quantities:"
   ]
  },
  {
   "cell_type": "code",
   "execution_count": 2,
   "metadata": {},
   "outputs": [],
   "source": [
    "k_a = 2\n",
    "k_b = 5e-5"
   ]
  },
  {
   "cell_type": "markdown",
   "metadata": {},
   "source": [
    "We can also write symbolic equations:"
   ]
  },
  {
   "cell_type": "code",
   "execution_count": 3,
   "metadata": {},
   "outputs": [
    {
     "data": {
      "text/latex": [
       "$\\displaystyle F_{z} \\left(2 - 0.0001 F_{z}\\right)$"
      ],
      "text/plain": [
       "F_z*(2 - 0.0001*F_z)"
      ]
     },
     "execution_count": 3,
     "metadata": {},
     "output_type": "execute_result"
    }
   ],
   "source": [
    "TC_RAD = k_a *(1-k_b * F_z) * F_z\n",
    "TC_RAD"
   ]
  },
  {
   "cell_type": "markdown",
   "metadata": {},
   "source": [
    "Given a symbolic equation, we can plot it:"
   ]
  },
  {
   "cell_type": "code",
   "execution_count": 4,
   "metadata": {},
   "outputs": [
    {
     "data": {
      "image/png": "[encoded data removed]",
      "text/plain": [
       "<Figure size 432x288 with 1 Axes>"
      ]
     },
     "metadata": {
      "needs_background": "light"
     },
     "output_type": "display_data"
    }
   ],
   "source": [
    "from sympy.plotting import plot\n",
    "\n",
    "# We aren't going to do symbolic sums using the min/max values\n",
    "# so we don't need to define them as symbols in this case\n",
    "# We can just declare normal Python variables\n",
    "F_z_min = 0\n",
    "F_z_max = 10000\n",
    "\n",
    "plot(TC_RAD, (F_z, F_z_min, F_z_max), xlabel='$F_z$', ylabel='$TC_{RAD}$');"
   ]
  },
  {
   "cell_type": "markdown",
   "metadata": {},
   "source": [
    "We can also make a interactive plot that allows us to explore the effect of changing the $k_a$ and $k_b$ parameter values:"
   ]
  },
  {
   "cell_type": "code",
   "execution_count": 5,
   "metadata": {},
   "outputs": [
    {
     "data": {
      "application/vnd.jupyter.widget-view+json": {
       "model_id": "9bfb496586a34dcb9555faf6742c1a19",
       "version_major": 2,
       "version_minor": 0
      },
      "text/plain": [
       "interactive(children=(FloatSlider(value=2.0, description='k_a', max=5.0), FloatSlider(value=5e-05, description…"
      ]
     },
     "metadata": {},
     "output_type": "display_data"
    }
   ],
   "source": [
    "from ipywidgets import interact\n",
    "\n",
    "# Unfortunately, the default slider widget does not show small numbers...\n",
    "@interact(k_a=(0, 5, 0.1),\n",
    "          k_b=(1e-5,1e-4, 5e-6))\n",
    "def charter(k_a=2, k_b=5e-5):\n",
    "    TC_RAD = k_a *(1-k_b * F_z) * F_z\n",
    "    plot(TC_RAD, (F_z, F_z_min, F_z_max), xlabel='$F_z$', ylabel='$TC_{RAD}$',\n",
    "         title=f'$k_b$={k_b}');\n"
   ]
  },
  {
   "cell_type": "markdown",
   "metadata": {},
   "source": [
    "We can expliclty define a log slider plot that is a bit more sensitve in its display; note that by defining the plot, we can also control the label that is displayed:"
   ]
  },
  {
   "cell_type": "code",
   "execution_count": 6,
   "metadata": {},
   "outputs": [
    {
     "data": {
      "application/vnd.jupyter.widget-view+json": {
       "model_id": "2bd0f52625a34c0596892c635fc903c7",
       "version_major": 2,
       "version_minor": 0
      },
      "text/plain": [
       "interactive(children=(IntSlider(value=2, description='k_a', max=6, min=-2), FloatLogSlider(value=1e-05, descri…"
      ]
     },
     "metadata": {},
     "output_type": "display_data"
    }
   ],
   "source": [
    "import ipywidgets as widgets\n",
    "\n",
    "k_b_slider = widgets.FloatLogSlider(\n",
    "    value=-5, # This is the power of the initial value\n",
    "    base=10,\n",
    "    min=-5, max=-4, # limits are powers\n",
    "    step=0.01,\n",
    "    description='$k_b$:'\n",
    ")\n",
    "\n",
    "\n",
    "interact(charter, k_b=k_b_slider);"
   ]
  },
  {
   "cell_type": "markdown",
   "metadata": {},
   "source": [
    "The article suggests differentiating the equation for $TC_{RAD}$ and then solving by setting the result to zero.\n",
    "\n",
    "We can differentiate expression by asking *sympy* to differentiate the equation for us:"
   ]
  },
  {
   "cell_type": "code",
   "execution_count": 13,
   "metadata": {},
   "outputs": [
    {
     "data": {
      "text/latex": [
       "$\\displaystyle - 0.0001 F_{z} k_{b} + 5.0 \\cdot 10^{-5}$"
      ],
      "text/plain": [
       "-0.0001*F_z*k_b + 5.0e-5"
      ]
     },
     "execution_count": 13,
     "metadata": {},
     "output_type": "execute_result"
    }
   ],
   "source": [
    "from sympy import diff\n",
    "\n",
    "# Redefine the symbols\n",
    "TC_RAD, F_z, k_a, k_b = symbols('TC_RAD F_z k_a k_b')\n",
    "\n",
    "# Specify the desired k_a\n",
    "k_a = 5e-5\n",
    "\n",
    "# Redefine the equation\n",
    "TC_RAD = k_a *(1-k_b * F_z) * F_z\n",
    "\n",
    "# Differentiate with respect to load, F_z\n",
    "diff(TC_RAD, F_z)"
   ]
  },
  {
   "cell_type": "markdown",
   "metadata": {},
   "source": [
    "And then we can solve it automatically as well:"
   ]
  },
  {
   "cell_type": "code",
   "execution_count": 14,
   "metadata": {},
   "outputs": [
    {
     "data": {
      "text/plain": [
       "[{F_z: 0.5/k_b}]"
      ]
     },
     "execution_count": 14,
     "metadata": {},
     "output_type": "execute_result"
    }
   ],
   "source": [
    "from sympy import solve\n",
    "\n",
    "solve(diff(TC_RAD, F_z))"
   ]
  },
  {
   "cell_type": "markdown",
   "metadata": {},
   "source": [
    "The result is a list of possible solutions (in Pyhton, a list represented by comma separated values in square brackets, `[...]`).\n",
    "\n",
    "We can extract the first solution (list index `0`) and display it:"
   ]
  },
  {
   "cell_type": "code",
   "execution_count": 15,
   "metadata": {},
   "outputs": [
    {
     "data": {
      "text/latex": [
       "$\\displaystyle \\frac{0.5}{k_{b}}$"
      ],
      "text/plain": [
       "0.5/k_b"
      ]
     },
     "execution_count": 15,
     "metadata": {},
     "output_type": "execute_result"
    }
   ],
   "source": [
    "solve(diff(TC_RAD, F_z))[0][F_z]"
   ]
  },
  {
   "cell_type": "markdown",
   "metadata": {},
   "source": [
    "This gives $F_z=0.5/k_b$ which is the same as the expression for Equation 2 in the article:\n",
    "\n",
    "$L_p=\\frac{1}{2.k_b}$"
   ]
  },
  {
   "cell_type": "markdown",
   "metadata": {},
   "source": [
    "The article then identifies the maximum traction circle radius as:\n",
    "\n",
    "$TC_{RAD\\_MAX}=\\frac{k_a.L_P}{2}$\n",
    "\n",
    "One of the major problems with maths notation used in Racecar Engineering magazine articles is that the symbols are often used inconsistently; for example, is $L_P$ of equation 3 intended to be the same as the previously derived $L_p$ from equation 2? As another example of notational ambiguity, in table 1, the value of $k_b$ is given as `5.0e-5 (1/N)`; the `(1/N)` component is presumably referring to the units rather than an unexplained part of the equation referring to some undeclared quantity `N`? (Many articles are all but impossible to follow without a lot of mental gymnastics trying to make sense of the garbled notation...)"
   ]
  },
  {
   "cell_type": "markdown",
   "metadata": {},
   "source": [
    "Moving on in the article, equation 4 provides expressions for determining front and rear cornering speeds using quantities:\n",
    "\n",
    "- $F_{xf}$: deduced front lateral force derived from equation 1;\n",
    "- $F_{yr}$: deduced rear lateral force derived from equation 1;\n",
    "- $wdf$: front weight distribution (per cent / 100);\n",
    "- $m_t$: total car mass (kg);\n",
    "- $iR$: peak corner curvature (1/m);\n",
    "- $V_x$: cornering speed (m/s).\n",
    "\n"
   ]
  },
  {
   "cell_type": "code",
   "execution_count": 19,
   "metadata": {},
   "outputs": [],
   "source": [
    "F_xf, F_yr, wdf, m_t, iR, V_x = symbols('F_xf F_yr wdf m_t iR V_x')\n",
    "\n",
    "F_xf = wdf * m_t * iR * V_x**2\n",
    "F_yr = (1 - wdf) * m_t * iR * V_x**2"
   ]
  },
  {
   "cell_type": "markdown",
   "metadata": {},
   "source": [
    "The article then gives a view of a whole host of other settings in an Excel worksheet but no formulas to show how they gerneate the claimed results also show in the worksheet.\n",
    "\n",
    "In all the years I've read Racecar Engineer, I'm not sure I can recall a single article with a mathematical basis that I could replicate all the various elements myself... And this one is no different!"
   ]
  }
 ],
 "metadata": {
  "kernelspec": {
   "display_name": "Python 3",
   "language": "python",
   "name": "python3"
  },
  "language_info": {
   "codemirror_mode": {
    "name": "ipython",
    "version": 3
   },
   "file_extension": ".py",
   "mimetype": "text/x-python",
   "name": "python",
   "nbconvert_exporter": "python",
   "pygments_lexer": "ipython3",
   "version": "3.7.6"
  }
 },
 "nbformat": 4,
 "nbformat_minor": 4
}
